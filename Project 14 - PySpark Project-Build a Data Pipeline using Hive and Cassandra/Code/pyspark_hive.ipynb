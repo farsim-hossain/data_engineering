{
 "cells": [
  {
   "cell_type": "code",
   "execution_count": null,
   "id": "1e88af58",
   "metadata": {},
   "outputs": [],
   "source": [
    "# nstall pyspark library\n",
    "!pip3 install pyspark"
   ]
  },
  {
   "cell_type": "code",
   "execution_count": null,
   "id": "4de5d223",
   "metadata": {},
   "outputs": [],
   "source": [
    "#import pyspark library\n",
    "import pyspark"
   ]
  },
  {
   "cell_type": "code",
   "execution_count": null,
   "id": "90f710fa",
   "metadata": {},
   "outputs": [],
   "source": [
    "#import spark session library\n",
    "from pyspark.sql import SparkSession"
   ]
  },
  {
   "cell_type": "markdown",
   "id": "d691f3cd",
   "metadata": {},
   "source": [
    "# Create spark session and set hive metastore property"
   ]
  },
  {
   "cell_type": "code",
   "execution_count": null,
   "id": "ff3ae9e7",
   "metadata": {},
   "outputs": [],
   "source": [
    "from pyspark import SparkContext, SparkConf\n",
    "from pyspark.sql import SparkSession, HiveContext\n",
    "SparkContext.setSystemProperty(\"hive.metastore.uris\", \"thrift://54.146.199.106:9083\")\n",
    "sparkSession = (SparkSession\n",
    "                .builder\n",
    "                .appName('integration-pyspark-hive')\n",
    "                .enableHiveSupport()\n",
    "                .getOrCreate())"
   ]
  },
  {
   "cell_type": "markdown",
   "id": "a2915953",
   "metadata": {},
   "source": [
    "# check what databases in available in hive"
   ]
  },
  {
   "cell_type": "code",
   "execution_count": null,
   "id": "e6b02863",
   "metadata": {},
   "outputs": [],
   "source": [
    "sparkSession.sql('show databases').show()"
   ]
  },
  {
   "cell_type": "code",
   "execution_count": null,
   "id": "abd849c1",
   "metadata": {},
   "outputs": [],
   "source": [
    "# create spark datafrme from csv file\n",
    "AirlineDF = sparkSession.read.option(\"header\", \"true\").csv(\"airlines1.csv\")"
   ]
  },
  {
   "cell_type": "code",
   "execution_count": null,
   "id": "ab738536",
   "metadata": {},
   "outputs": [],
   "source": [
    "AirlineDF.show()"
   ]
  },
  {
   "cell_type": "code",
   "execution_count": null,
   "id": "27221a7e",
   "metadata": {},
   "outputs": [],
   "source": [
    "#create new dataframe and select some columns\n",
    "AirlineDF1 = AirlineDF.select(\"Year\",\"Reporting_Airline\")"
   ]
  },
  {
   "cell_type": "code",
   "execution_count": null,
   "id": "7ddf8362",
   "metadata": {},
   "outputs": [],
   "source": [
    "AirlineDF1.show()"
   ]
  },
  {
   "cell_type": "code",
   "execution_count": null,
   "id": "45d65a55",
   "metadata": {},
   "outputs": [],
   "source": [
    "sparkSession.sql(\"show databases\").show()"
   ]
  },
  {
   "cell_type": "markdown",
   "id": "64706df4",
   "metadata": {},
   "source": [
    "# create database in hive"
   ]
  },
  {
   "cell_type": "code",
   "execution_count": null,
   "id": "9c5a6cc8",
   "metadata": {},
   "outputs": [],
   "source": [
    "sparkSession.sql(\"create database flight1\").show()"
   ]
  },
  {
   "cell_type": "code",
   "execution_count": null,
   "id": "3a8a0e06",
   "metadata": {},
   "outputs": [],
   "source": [
    "sparkSession.sql(\"show databases\").show()"
   ]
  },
  {
   "cell_type": "code",
   "execution_count": null,
   "id": "b2a2c541",
   "metadata": {},
   "outputs": [],
   "source": [
    "sparkSession.sql(\"use flight1\").show()\n",
    "sparkSession.sql(\"show tables\").show()"
   ]
  },
  {
   "cell_type": "markdown",
   "id": "53622416",
   "metadata": {},
   "source": [
    "# Read write data from spark to hive table\n",
    "# we need database which is already created"
   ]
  },
  {
   "cell_type": "code",
   "execution_count": null,
   "id": "036c838c",
   "metadata": {},
   "outputs": [],
   "source": [
    "AirlineDF1.write.saveAsTable(\"flight1.air3\")"
   ]
  },
  {
   "cell_type": "code",
   "execution_count": null,
   "id": "fc39954a",
   "metadata": {},
   "outputs": [],
   "source": [
    "sparkSession.sql(\"use flight1\").show()\n",
    "sparkSession.sql(\"show tables\").show()"
   ]
  },
  {
   "cell_type": "code",
   "execution_count": null,
   "id": "2e64f466",
   "metadata": {},
   "outputs": [],
   "source": [
    "sparkSession.sql(\"select * from air3\").show()"
   ]
  },
  {
   "cell_type": "markdown",
   "id": "5870cb58",
   "metadata": {},
   "source": [
    "# create table from pyspark to hive and apply some sql oprations"
   ]
  },
  {
   "cell_type": "code",
   "execution_count": null,
   "id": "40fd3040",
   "metadata": {},
   "outputs": [],
   "source": [
    "sparkSession.sql(\"create database test11\").show()"
   ]
  },
  {
   "cell_type": "code",
   "execution_count": null,
   "id": "50720b02",
   "metadata": {},
   "outputs": [],
   "source": [
    "sparkSession.sql('show databases').show()"
   ]
  },
  {
   "cell_type": "code",
   "execution_count": null,
   "id": "9ac9dd74",
   "metadata": {},
   "outputs": [],
   "source": [
    "sparkSession.sql('use test11').show()"
   ]
  },
  {
   "cell_type": "code",
   "execution_count": null,
   "id": "4f3e4a5f",
   "metadata": {},
   "outputs": [],
   "source": [
    "sparkSession.sql('show tables').show()"
   ]
  },
  {
   "cell_type": "code",
   "execution_count": null,
   "id": "243b0eb3",
   "metadata": {},
   "outputs": [],
   "source": [
    "sparkSession.sql('create table people (id int,name string)').show()"
   ]
  },
  {
   "cell_type": "code",
   "execution_count": null,
   "id": "4e8463c8",
   "metadata": {},
   "outputs": [],
   "source": [
    "sparkSession.sql('insert into people (id,name) values (100,\"tom\")').show()"
   ]
  },
  {
   "cell_type": "code",
   "execution_count": null,
   "id": "ef06e42f",
   "metadata": {},
   "outputs": [],
   "source": [
    "sparkSession.sql('insert into people (id,name) values (102,\"jack\")').show()"
   ]
  },
  {
   "cell_type": "code",
   "execution_count": null,
   "id": "b11dd51d",
   "metadata": {},
   "outputs": [],
   "source": [
    "sparkSession.sql('select * from people').show()"
   ]
  },
  {
   "cell_type": "code",
   "execution_count": null,
   "id": "7478e627",
   "metadata": {},
   "outputs": [],
   "source": [
    "df1 = sparkSession.sql('select * from people')"
   ]
  },
  {
   "cell_type": "code",
   "execution_count": null,
   "id": "c11f4aa8",
   "metadata": {},
   "outputs": [],
   "source": [
    "df1.show()"
   ]
  },
  {
   "cell_type": "code",
   "execution_count": null,
   "id": "6e4d84f6",
   "metadata": {},
   "outputs": [],
   "source": [
    "df1.write.mode(\"overwrite\").saveAsTable(\"test11.people1\")"
   ]
  },
  {
   "cell_type": "code",
   "execution_count": null,
   "id": "de8b5c22",
   "metadata": {},
   "outputs": [],
   "source": [
    "sparkSession.sql('show tables').show()"
   ]
  },
  {
   "cell_type": "code",
   "execution_count": null,
   "id": "f5afdc33",
   "metadata": {},
   "outputs": [],
   "source": [
    "sparkSession.sql('select * from people1').show()"
   ]
  },
  {
   "cell_type": "code",
   "execution_count": null,
   "id": "f0526f8c",
   "metadata": {},
   "outputs": [],
   "source": [
    "sparkSession.sql('drop table people1').show()"
   ]
  },
  {
   "cell_type": "code",
   "execution_count": null,
   "id": "d2097d42",
   "metadata": {},
   "outputs": [],
   "source": [
    "sparkSession.sql('show tables').show()"
   ]
  },
  {
   "cell_type": "code",
   "execution_count": null,
   "id": "973a6ba8",
   "metadata": {},
   "outputs": [],
   "source": [
    "#drop database error comes because some tables in available in database\n",
    "sparkSession.sql('drop database test11').show()"
   ]
  },
  {
   "cell_type": "code",
   "execution_count": null,
   "id": "ec026398",
   "metadata": {},
   "outputs": [],
   "source": [
    "sparkSession.sql('drop table people').show()"
   ]
  },
  {
   "cell_type": "code",
   "execution_count": null,
   "id": "e60c16cb",
   "metadata": {},
   "outputs": [],
   "source": [
    "sparkSession.sql('drop database test11').show()"
   ]
  },
  {
   "cell_type": "code",
   "execution_count": null,
   "id": "6d4d992b",
   "metadata": {},
   "outputs": [],
   "source": [
    "sparkSession.sql('show databases').show()"
   ]
  },
  {
   "cell_type": "code",
   "execution_count": null,
   "id": "97e46316",
   "metadata": {},
   "outputs": [],
   "source": []
  }
 ],
 "metadata": {
  "kernelspec": {
   "display_name": "Python 3 (ipykernel)",
   "language": "python",
   "name": "python3"
  },
  "language_info": {
   "codemirror_mode": {
    "name": "ipython",
    "version": 3
   },
   "file_extension": ".py",
   "mimetype": "text/x-python",
   "name": "python",
   "nbconvert_exporter": "python",
   "pygments_lexer": "ipython3",
   "version": "3.9.7"
  }
 },
 "nbformat": 4,
 "nbformat_minor": 5
}
